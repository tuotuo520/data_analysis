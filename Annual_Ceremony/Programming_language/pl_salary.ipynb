{
 "cells": [
  {
   "cell_type": "code",
   "execution_count": 1,
   "metadata": {},
   "outputs": [],
   "source": [
    "import requests\n",
    "from bs4 import BeautifulSoup\n",
    "import pandas as pd\n",
    "import time\n",
    "import re\n",
    "from pyecharts import options as opts\n",
    "from pyecharts.charts import Bar\n",
    "from pyecharts.commons.utils import JsCode"
   ]
  },
  {
   "cell_type": "code",
   "execution_count": 28,
   "metadata": {},
   "outputs": [],
   "source": [
    "def get_pl_list():\n",
    "    url = 'https://www.tiobe.com/tiobe-index/'\n",
    "    pl_df = pd.read_html(url)\n",
    "    top_20 = pl_df[0]['Programming Language'].values.tolist()\n",
    "    return top_20"
   ]
  },
  {
   "cell_type": "code",
   "execution_count": 31,
   "metadata": {},
   "outputs": [],
   "source": [
    "pl_list = get_pl_list()"
   ]
  },
  {
   "cell_type": "code",
   "execution_count": 6,
   "metadata": {},
   "outputs": [],
   "source": [
    "def get_lagou(pl):\n",
    "    pl_data = []\n",
    "    uri = 'https://www.lagou.com/zhaopin/%s/' % pl\n",
    "    for i in range(1, 4):\n",
    "        url = uri + str(i) + '/'\n",
    "        print(url)\n",
    "        headers = {\"User-Agent\": \"\", \"Cookie\": \"\"}\n",
    "        res = requests.get(url, headers=headers)\n",
    "        print(res.text)\n",
    "        content = BeautifulSoup(res.text, \"html.parser\")\n",
    "        job_list = content.find_all('ul', {'class': 'item_con_list'})\n",
    "        money_list = job_list[1].find_all('span', {'class': 'money'})\n",
    "        for money in money_list:\n",
    "            money_value = money.string\n",
    "            pl_data.append(money_value)\n",
    "    return pl_data"
   ]
  },
  {
   "cell_type": "code",
   "execution_count": 8,
   "metadata": {
    "scrolled": true
   },
   "outputs": [],
   "source": [
    "java_data = get_lagou('Java')"
   ]
  },
  {
   "cell_type": "code",
   "execution_count": 80,
   "metadata": {
    "scrolled": false
   },
   "outputs": [
    {
     "name": "stdout",
     "output_type": "stream",
     "text": [
      "https://www.lagou.com/zhaopin/C/1/\n",
      "https://www.lagou.com/zhaopin/C/2/\n",
      "https://www.lagou.com/zhaopin/C/3/\n"
     ]
    }
   ],
   "source": [
    "c_data = get_lagou('C')"
   ]
  },
  {
   "cell_type": "code",
   "execution_count": 84,
   "metadata": {},
   "outputs": [
    {
     "name": "stdout",
     "output_type": "stream",
     "text": [
      "https://www.lagou.com/zhaopin/Python/1/\n",
      "https://www.lagou.com/zhaopin/Python/2/\n",
      "https://www.lagou.com/zhaopin/Python/3/\n"
     ]
    }
   ],
   "source": [
    "python_data = get_lagou('Python')"
   ]
  },
  {
   "cell_type": "code",
   "execution_count": 157,
   "metadata": {},
   "outputs": [
    {
     "name": "stdout",
     "output_type": "stream",
     "text": [
      "https://www.lagou.com/zhaopin/JavaScript/1/\n",
      "https://www.lagou.com/zhaopin/JavaScript/2/\n",
      "https://www.lagou.com/zhaopin/JavaScript/3/\n"
     ]
    }
   ],
   "source": [
    "js_data = get_lagou('JavaScript')"
   ]
  },
  {
   "cell_type": "code",
   "execution_count": 160,
   "metadata": {},
   "outputs": [
    {
     "name": "stdout",
     "output_type": "stream",
     "text": [
      "https://www.lagou.com/zhaopin/go/1/\n",
      "https://www.lagou.com/zhaopin/go/2/\n",
      "https://www.lagou.com/zhaopin/go/3/\n"
     ]
    }
   ],
   "source": [
    "go_data = get_lagou('go')"
   ]
  },
  {
   "cell_type": "code",
   "execution_count": 162,
   "metadata": {},
   "outputs": [
    {
     "name": "stdout",
     "output_type": "stream",
     "text": [
      "https://www.lagou.com/zhaopin/PHP/1/\n",
      "https://www.lagou.com/zhaopin/PHP/2/\n",
      "https://www.lagou.com/zhaopin/PHP/3/\n"
     ]
    }
   ],
   "source": [
    "php_data = get_lagou('PHP')"
   ]
  },
  {
   "cell_type": "code",
   "execution_count": 124,
   "metadata": {},
   "outputs": [],
   "source": [
    "def get_mid(mystr):\n",
    "    rege = r'\\d+'\n",
    "    value_list = re.findall(rege, mystr)\n",
    "    mid = (int(value_list[0]) + int(value_list[1]))/2\n",
    "    return mid"
   ]
  },
  {
   "cell_type": "code",
   "execution_count": 125,
   "metadata": {
    "scrolled": true
   },
   "outputs": [],
   "source": [
    "java_mid = list(map(get_mid, java_data))"
   ]
  },
  {
   "cell_type": "code",
   "execution_count": 128,
   "metadata": {},
   "outputs": [],
   "source": [
    "c_mid = list(map(get_mid, c_data))"
   ]
  },
  {
   "cell_type": "code",
   "execution_count": 129,
   "metadata": {},
   "outputs": [],
   "source": [
    "python_mid = list(map(get_mid, python_data))"
   ]
  },
  {
   "cell_type": "code",
   "execution_count": 163,
   "metadata": {},
   "outputs": [],
   "source": [
    "js_mid = list(map(get_mid, js_data))\n",
    "go_mid = list(map(get_mid, go_data))\n",
    "php_mid = list(map(get_mid, php_data))"
   ]
  },
  {
   "cell_type": "code",
   "execution_count": 165,
   "metadata": {
    "scrolled": true
   },
   "outputs": [],
   "source": [
    "python_mid.sort(reverse=True)\n",
    "java_mid.sort(reverse=True)\n",
    "c_mid.sort(reverse=True)\n",
    "js_mid.sort(reverse=True)\n",
    "go_mid.sort(reverse=True)\n",
    "php_mid.sort(reverse=True)"
   ]
  },
  {
   "cell_type": "code",
   "execution_count": 179,
   "metadata": {},
   "outputs": [],
   "source": [
    "def bar_base() -> Bar:\n",
    "    background_color_js = (\n",
    "        \"new echarts.graphic.LinearGradient(0, 0, 0, 1, \"\n",
    "        \"[{offset: 0, color: '#c86589'}, {offset: 1, color: '#06a7ff'}], false)\"\n",
    "    )\n",
    "    c = (\n",
    "        Bar(init_opts=opts.InitOpts(bg_color=JsCode(background_color_js)))\n",
    "        .add_xaxis(['Java', 'C', 'Python', 'JS', 'Go', 'PHP'])\n",
    "        .add_yaxis(\"\", [java_mid[0], c_mid[0], python_mid[0], js_mid[0], go_mid[0], php_mid[0]])\n",
    "        .add_yaxis(\"\", [java_mid[1], c_mid[1], python_mid[1], js_mid[1], go_mid[1], php_mid[1]])\n",
    "        .add_yaxis(\"\", [java_mid[2], c_mid[2], python_mid[2], js_mid[2], go_mid[2], php_mid[2]])\n",
    "        .add_yaxis(\"\", [java_mid[3], c_mid[3], python_mid[3], js_mid[3], go_mid[3], php_mid[3]])\n",
    "        .add_yaxis(\"\", [java_mid[4], c_mid[4], python_mid[4], js_mid[4], go_mid[4], php_mid[4]])\n",
    "        .add_yaxis(\"\", [java_mid[5], c_mid[5], python_mid[5], js_mid[5], go_mid[5], php_mid[5]])\n",
    "        .set_global_opts(title_opts=opts.TitleOpts(title=\"六大语言薪资对比\", subtitle=\"\"))\n",
    "    )\n",
    "    return c"
   ]
  },
  {
   "cell_type": "code",
   "execution_count": 180,
   "metadata": {},
   "outputs": [
    {
     "data": {
      "text/html": [
       "<script>\n",
       "    require.config({\n",
       "        paths: {\n",
       "            'echarts':'https://assets.pyecharts.org/assets/echarts.min'\n",
       "        }\n",
       "    });\n",
       "</script>\n",
       "\n",
       "    <div id=\"ceea69017681499b93c1787c651b997a\" style=\"width:900px; height:500px;\"></div>\n",
       "\n",
       "\n",
       "<script>\n",
       "    require(['echarts'], function(echarts) {\n",
       "        var chart_ceea69017681499b93c1787c651b997a = echarts.init(\n",
       "            document.getElementById('ceea69017681499b93c1787c651b997a'), 'white', {renderer: 'canvas'});\n",
       "        var option_ceea69017681499b93c1787c651b997a = {\n",
       "    \"backgroundColor\": new echarts.graphic.LinearGradient(0, 0, 0, 1, [{offset: 0, color: '#c86589'}, {offset: 1, color: '#06a7ff'}], false),\n",
       "    \"color\": [\n",
       "        \"#c23531\",\n",
       "        \"#2f4554\",\n",
       "        \"#61a0a8\",\n",
       "        \"#d48265\",\n",
       "        \"#749f83\",\n",
       "        \"#ca8622\",\n",
       "        \"#bda29a\",\n",
       "        \"#6e7074\",\n",
       "        \"#546570\",\n",
       "        \"#c4ccd3\",\n",
       "        \"#f05b72\",\n",
       "        \"#ef5b9c\",\n",
       "        \"#f47920\",\n",
       "        \"#905a3d\",\n",
       "        \"#fab27b\",\n",
       "        \"#2a5caa\",\n",
       "        \"#444693\",\n",
       "        \"#726930\",\n",
       "        \"#b2d235\",\n",
       "        \"#6d8346\",\n",
       "        \"#ac6767\",\n",
       "        \"#1d953f\",\n",
       "        \"#6950a1\",\n",
       "        \"#918597\"\n",
       "    ],\n",
       "    \"series\": [\n",
       "        {\n",
       "            \"type\": \"bar\",\n",
       "            \"data\": [\n",
       "                42.5,\n",
       "                40.0,\n",
       "                37.5,\n",
       "                37.5,\n",
       "                60.0,\n",
       "                37.5\n",
       "            ],\n",
       "            \"barCategoryGap\": \"20%\",\n",
       "            \"label\": {\n",
       "                \"show\": true,\n",
       "                \"position\": \"top\",\n",
       "                \"margin\": 8\n",
       "            }\n",
       "        },\n",
       "        {\n",
       "            \"type\": \"bar\",\n",
       "            \"data\": [\n",
       "                35.0,\n",
       "                37.5,\n",
       "                35.0,\n",
       "                35.0,\n",
       "                45.0,\n",
       "                37.5\n",
       "            ],\n",
       "            \"barCategoryGap\": \"20%\",\n",
       "            \"label\": {\n",
       "                \"show\": true,\n",
       "                \"position\": \"top\",\n",
       "                \"margin\": 8\n",
       "            }\n",
       "        },\n",
       "        {\n",
       "            \"type\": \"bar\",\n",
       "            \"data\": [\n",
       "                30.0,\n",
       "                30.0,\n",
       "                30.0,\n",
       "                32.5,\n",
       "                37.5,\n",
       "                30.0\n",
       "            ],\n",
       "            \"barCategoryGap\": \"20%\",\n",
       "            \"label\": {\n",
       "                \"show\": true,\n",
       "                \"position\": \"top\",\n",
       "                \"margin\": 8\n",
       "            }\n",
       "        },\n",
       "        {\n",
       "            \"type\": \"bar\",\n",
       "            \"data\": [\n",
       "                30.0,\n",
       "                30.0,\n",
       "                30.0,\n",
       "                32.5,\n",
       "                37.5,\n",
       "                30.0\n",
       "            ],\n",
       "            \"barCategoryGap\": \"20%\",\n",
       "            \"label\": {\n",
       "                \"show\": true,\n",
       "                \"position\": \"top\",\n",
       "                \"margin\": 8\n",
       "            }\n",
       "        },\n",
       "        {\n",
       "            \"type\": \"bar\",\n",
       "            \"data\": [\n",
       "                29.0,\n",
       "                30.0,\n",
       "                27.5,\n",
       "                30.0,\n",
       "                35.0,\n",
       "                25.0\n",
       "            ],\n",
       "            \"barCategoryGap\": \"20%\",\n",
       "            \"label\": {\n",
       "                \"show\": true,\n",
       "                \"position\": \"top\",\n",
       "                \"margin\": 8\n",
       "            }\n",
       "        },\n",
       "        {\n",
       "            \"type\": \"bar\",\n",
       "            \"data\": [\n",
       "                25.0,\n",
       "                30.0,\n",
       "                27.5,\n",
       "                30.0,\n",
       "                35.0,\n",
       "                25.0\n",
       "            ],\n",
       "            \"barCategoryGap\": \"20%\",\n",
       "            \"label\": {\n",
       "                \"show\": true,\n",
       "                \"position\": \"top\",\n",
       "                \"margin\": 8\n",
       "            }\n",
       "        }\n",
       "    ],\n",
       "    \"legend\": [\n",
       "        {\n",
       "            \"data\": [\n",
       "                \"\",\n",
       "                \"\",\n",
       "                \"\",\n",
       "                \"\",\n",
       "                \"\",\n",
       "                \"\"\n",
       "            ],\n",
       "            \"selected\": {\n",
       "                \"\": true\n",
       "            },\n",
       "            \"show\": true\n",
       "        }\n",
       "    ],\n",
       "    \"tooltip\": {\n",
       "        \"show\": true,\n",
       "        \"trigger\": \"item\",\n",
       "        \"triggerOn\": \"mousemove|click\",\n",
       "        \"axisPointer\": {\n",
       "            \"type\": \"line\"\n",
       "        },\n",
       "        \"textStyle\": {\n",
       "            \"fontSize\": 14\n",
       "        },\n",
       "        \"borderWidth\": 0\n",
       "    },\n",
       "    \"xAxis\": [\n",
       "        {\n",
       "            \"show\": true,\n",
       "            \"scale\": false,\n",
       "            \"nameLocation\": \"end\",\n",
       "            \"nameGap\": 15,\n",
       "            \"gridIndex\": 0,\n",
       "            \"inverse\": false,\n",
       "            \"offset\": 0,\n",
       "            \"splitNumber\": 5,\n",
       "            \"minInterval\": 0,\n",
       "            \"splitLine\": {\n",
       "                \"show\": false,\n",
       "                \"lineStyle\": {\n",
       "                    \"width\": 1,\n",
       "                    \"opacity\": 1,\n",
       "                    \"curveness\": 0,\n",
       "                    \"type\": \"solid\"\n",
       "                }\n",
       "            },\n",
       "            \"data\": [\n",
       "                \"Java\",\n",
       "                \"C\",\n",
       "                \"Python\",\n",
       "                \"JS\",\n",
       "                \"Go\",\n",
       "                \"PHP\"\n",
       "            ]\n",
       "        }\n",
       "    ],\n",
       "    \"yAxis\": [\n",
       "        {\n",
       "            \"show\": true,\n",
       "            \"scale\": false,\n",
       "            \"nameLocation\": \"end\",\n",
       "            \"nameGap\": 15,\n",
       "            \"gridIndex\": 0,\n",
       "            \"inverse\": false,\n",
       "            \"offset\": 0,\n",
       "            \"splitNumber\": 5,\n",
       "            \"minInterval\": 0,\n",
       "            \"splitLine\": {\n",
       "                \"show\": false,\n",
       "                \"lineStyle\": {\n",
       "                    \"width\": 1,\n",
       "                    \"opacity\": 1,\n",
       "                    \"curveness\": 0,\n",
       "                    \"type\": \"solid\"\n",
       "                }\n",
       "            }\n",
       "        }\n",
       "    ],\n",
       "    \"title\": [\n",
       "        {\n",
       "            \"text\": \"\\u516d\\u5927\\u8bed\\u8a00\\u85aa\\u8d44\\u5bf9\\u6bd4\"\n",
       "        }\n",
       "    ]\n",
       "};\n",
       "        chart_ceea69017681499b93c1787c651b997a.setOption(option_ceea69017681499b93c1787c651b997a);\n",
       "    });\n",
       "</script>\n"
      ],
      "text/plain": [
       "<pyecharts.render.display.HTML at 0x11ca2b30>"
      ]
     },
     "execution_count": 180,
     "metadata": {},
     "output_type": "execute_result"
    }
   ],
   "source": [
    "bar_base().render_notebook()"
   ]
  },
  {
   "cell_type": "code",
   "execution_count": null,
   "metadata": {},
   "outputs": [],
   "source": []
  }
 ],
 "metadata": {
  "kernelspec": {
   "display_name": "Python 3 (ipykernel)",
   "language": "python",
   "name": "python3"
  },
  "language_info": {
   "codemirror_mode": {
    "name": "ipython",
    "version": 3
   },
   "file_extension": ".py",
   "mimetype": "text/x-python",
   "name": "python",
   "nbconvert_exporter": "python",
   "pygments_lexer": "ipython3",
   "version": "3.7.9"
  },
  "pycharm": {
   "stem_cell": {
    "cell_type": "raw",
    "metadata": {
     "collapsed": false
    },
    "source": []
   }
  }
 },
 "nbformat": 4,
 "nbformat_minor": 2
}
