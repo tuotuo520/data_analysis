{
 "cells": [
  {
   "cell_type": "code",
   "execution_count": 14,
   "metadata": {},
   "outputs": [],
   "source": [
    "import requests\n",
    "from requests_toolbelt import MultipartEncoder"
   ]
  },
  {
   "cell_type": "code",
   "execution_count": 10,
   "metadata": {},
   "outputs": [],
   "source": [
    "url = \"https://www.lagou.com/jobs/positionAjax.json\""
   ]
  },
  {
   "cell_type": "code",
   "execution_count": 6,
   "metadata": {},
   "outputs": [],
   "source": [
    "headers = {\n",
    "    'content-type': \"multipart/form-data; boundary=----WebKitFormBoundary7MA4YWxkTrZu0gW\",\n",
    "    'User-Agent': \"Mozilla/5.0 (Macintosh; Intel Mac OS X 11_0_1) AppleWebKit/537.36 (KHTML, like Gecko) Chrome/88.0.4324.182 Safari/537.36\",\n",
    "    'Referer': \"https://www.lagou.com/jobs/list_Python?labelWords=&fromSearch=true&suginput=\",\n",
    "    'Origin': \"https://www.lagou.com\",\n",
    "    'Cookie': \"user_trace_token=20180912135919-fcea5679-b650-11e8-b814-5254005c3644; LGUID=20180912135919-fcea5ae6-b650-11e8-b814-5254005c3644; _ga=GA1.2.1059671172.1615552972; _gat=1; PRE_HOST=www.baidu.com; LGSID=20210312204311-8687b4b3-5e02-4ec0-9703-adb9559defe4; PRE_UTM=m_cf_cpc_baidu_pc; PRE_SITE=https%3A%2F%2Fwww.baidu.com%2Fbaidu.php%3Fsc.000000j0xnZgmfstWuIQXtf6P7vcrg6F-S1vvyVQy0SucScgaG%5F8hHxuC6ma-%5Fv9Xqt4fBbdumIj%5FuopPnGqpehprih4TnKfZ-T0GsHMTrnule89mI-54qhC0E%5FfV9etHfzfhCBD0w3oUzZyeETDMmm8z5-PPab32rzNg99mVr4jz0gXdSz%5FUSaOSH3tNNMI1QwZb886SjhXRdUR65EKoQie1zOj.DR%5FNR2Ar5Od663rj6tJQrGvKD77h24SU5WudF6ksswGuh9J4qt7jHzk8sHfGmYt%5FrE-9kstVerQKz33X8M-eXKBqM764mTT5QZstJXMy-MuzvI5WTMG4T5MY3IMo9vUt5MEsethZvedPHV2XgZJyAp7WF3S5HYJ0.U1Yk0ZDqs2v4%5FsKspynqn0KsTv-MUWYkP1cdPAmzmWNBPjF9nWu9PHu9uH-buADsuWf3mHIhm6KY5TaV8Un0pyYqnWcd0ATqUvwlnfKdpHdBmy-bIfKspyfqnHb0mv-b5HRd0AdY5HDsnH-xnH0kPdtznjmzg1nsnjIxnH0zndt1PW0k0AVG5H00TMfqrHnd0AFG5HDdr7tznjwxnWDLg1RsnsKVm1Yknj0kg1D3rjmvrH6sP1NxnWDdPHf1rjcLnWNxnH0zg17xn0KkTA-b5H00TyPGujYs0ZFMIA7M5H00mycqn7ts0ANzu1Ys0ZKs5Hn1P1ckrjRdrfK8IM0qna3snj0snj0sn0KVIZ0qn0KbuAqs5H00ThCqn0KbugmqTAn0uMfqn0KspjYs0Aq15H00mMTqnH00UMfqn0K1XWY0mgPxpywW5gK1Qy4J0A-bm1dri6KYmgFMugfqPWPxn7tkPH00IZN15HTsPWRdPWndPHDvrHbvrjDkPjT0ThNkIjYkPWDdPHRzrHmvP1n30ZPGujd-nWF-m1D1uH0snARsrj-W0AP1UHdDPjbkf1wjnjmknj0kP1P70A7W5HD0TA3qn0KkUgfqn0KkUgnqn0KlIjYs0AdWgvuzUvYqn7tsg1Kxn10sn-tsg100uA78IyF-gLK%5Fmy4GuZnqn7tsg1KxPjDvn1nYnNtsg100TA7Ygvu%5FmyTqn0Kbmv-b5H00ugwGujYVnfK9TLKWm1Ys0ZNspy4Wm1Ys0Z7VuWYs0AuWIgfqn0KGTvP%5F5H00XMK%5FIgnqn0K9uAu%5FmyTqnfK%5Fuhnqn0KbmvPb5RNAPHKKrju7wHN7PHRYf1mLrDf3rjIAwRDLwHndfYf4xj00IZF9uARqP1msnW0z0AFbpyfqfRn1fWFAnYc4PHuafWIAPH6zwjw7wHbvf1fdP1fdwbc0mMfqn0KEmgwL5H00ULfqn0KETMKY5H0WnanWnansc10Wna3snj0snj0WnanWnanVc108nj0snj0sc1D8nj0snj0s0Z7xIWYsQW64g108njKxna3sn7tsQWD4g108nHFxna31nNtknj08njKxnHc30AF1gLKzUvwGujYs0A-1gvPsmHYs0APs5H00mLFW5Hm1rjf%26word%3D%26ck%3D9011.1.92.328.462.283.454.550%26shh%3Dwww.baidu.com%26sht%3Dbaiduhome%5Fpg%26us%3D1.0.2.0.2.924.0%26wd%3D%26bc%3D110101; PRE_LAND=https%3A%2F%2Fwww.lagou.com%2Flanding-page%2Fpc%2Fsearch.html%3Futm%5Fsource%3Dm%5Fcf%5Fcpc%5Fbaidu%5Fpc%26m%5Fkw%3Dbaidu%5Fcpc%5Fsz%5Fe6fea8%5F067de6%5F%25E6%258B%2589%25E9%2592%25A9; JSESSIONID=ABAAAECAAEBABII2757360D202C2ED303AACAF45E213C0A; WEBTJ-ID=20210312%E4%B8%8B%E5%8D%888:43:23204323-17826767fc41b3-0df0bd8840a4a6-101a4559-1296000-17826767fc5904; RECOMMEND_TIP=true; sajssdk_2015_cross_new_user=1; sensorsdata2015session=%7B%7D; sensorsdata2015jssdkcross=%7B%22distinct_id%22%3A%221782676833912b-0d3fd38ab1b218-101a4559-1296000-1782676833e681%22%2C%22first_id%22%3A%22%22%2C%22props%22%3A%7B%22%24latest_traffic_source_type%22%3A%22%E8%87%AA%E7%84%B6%E6%90%9C%E7%B4%A2%E6%B5%81%E9%87%8F%22%2C%22%24latest_search_keyword%22%3A%22%E6%9C%AA%E5%8F%96%E5%88%B0%E5%80%BC%22%2C%22%24latest_referrer%22%3A%22https%3A%2F%2Fwww.baidu.com%2Flink%22%2C%22%24os%22%3A%22MacOS%22%2C%22%24browser%22%3A%22Chrome%22%2C%22%24browser_version%22%3A%2288.0.4324.182%22%7D%2C%22%24device_id%22%3A%221782676833912b-0d3fd38ab1b218-101a4559-1296000-1782676833e681%22%7D; Hm_lvt_4233e74dff0ae5bd0a3d81c6ccf756e6=1615552973,1615552989,1615553004; Hm_lpvt_4233e74dff0ae5bd0a3d81c6ccf756e6=1615553004; _gid=GA1.2.580831564.1615553004; index_location_city=%E5%85%A8%E5%9B%BD; TG-TRACK-CODE=index_search; __lg_stoken__=dcc7decdb29a78609f2e43f694e6f4c0318ae9be1da4c70f88802e978a5dbd5a79c716dc1617b7bedaa18cc084a82f4faec188bc64c2c6e833a9d7debb7d7bbcd7eb125ae1a7; X_MIDDLE_TOKEN=4c624206838498a46bfe014a2372d1ee; X_HTTP_TOKEN=0fcaa2b17ef303df1443555161d1b22f92bda3e9b3; SEARCH_ID=030c613341874424913cae33f0cb26c9; LGRID=20210312205045-d6976694-c074-4682-8e12-68b7c3117f96\",\n",
    "    'cache-control': \"no-cache\",\n",
    "    'Postman-Token': \"e1e595ee-b1fe-4d9e-ad31-1a42df5db15c\"\n",
    "    }"
   ]
  },
  {
   "cell_type": "code",
   "execution_count": 17,
   "metadata": {},
   "outputs": [],
   "source": [
    "m_data = MultipartEncoder(fields={'first': 'true', 'pn': '1', 'kd': 'Python'})"
   ]
  },
  {
   "cell_type": "code",
   "execution_count": 7,
   "metadata": {},
   "outputs": [],
   "source": [
    "querystring = {\"needAddtionalResult\":\"false\"}\n",
    "\n",
    "payload = \"------WebKitFormBoundary7MA4YWxkTrZu0gW\\r\\nContent-Disposition: form-data; name=\\\"first\\\"\\r\\n\\r\\ntrue\\r\\n------WebKitFormBoundary7MA4YWxkTrZu0gW\\r\\nContent-Disposition: form-data; name=\\\"pn\\\"\\r\\n\\r\\n3\\r\\n------WebKitFormBoundary7MA4YWxkTrZu0gW\\r\\nContent-Disposition: form-data; name=\\\"kd\\\"\\r\\n\\r\\nPython\\r\\n------WebKitFormBoundary7MA4YWxkTrZu0gW--\""
   ]
  },
  {
   "cell_type": "code",
   "execution_count": 11,
   "metadata": {},
   "outputs": [],
   "source": [
    "response = requests.request(\"POST\", url, data=payload, headers=headers, params=querystring)"
   ]
  },
  {
   "cell_type": "code",
   "execution_count": 18,
   "metadata": {},
   "outputs": [],
   "source": [
    "response = requests.request(\"POST\", url, data=m_data, headers=headers, params=querystring)"
   ]
  },
  {
   "cell_type": "code",
   "execution_count": 20,
   "metadata": {},
   "outputs": [],
   "source": [
    "fields={'first': 'true', 'pn': '1', 'kd': 'Python'}"
   ]
  },
  {
   "cell_type": "code",
   "execution_count": null,
   "metadata": {},
   "outputs": [],
   "source": [
    "def get_python():\n",
    "    for i in range(16)\n",
    "    response = requests.request(\"POST\", url, data=m_data, headers=headers, params=querystring)"
   ]
  },
  {
   "cell_type": "code",
   "execution_count": 21,
   "metadata": {},
   "outputs": [],
   "source": [
    "result = response.text"
   ]
  },
  {
   "cell_type": "raw",
   "metadata": {},
   "source": []
  }
 ],
 "metadata": {
  "kernelspec": {
   "display_name": "Python 3",
   "language": "python",
   "name": "python3"
  },
  "language_info": {
   "codemirror_mode": {
    "name": "ipython",
    "version": 3
   },
   "file_extension": ".py",
   "mimetype": "text/x-python",
   "name": "python",
   "nbconvert_exporter": "python",
   "pygments_lexer": "ipython3",
   "version": "3.8.2"
  }
 },
 "nbformat": 4,
 "nbformat_minor": 4
}
